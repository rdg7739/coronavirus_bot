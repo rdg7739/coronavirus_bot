{
 "cells": [
  {
   "cell_type": "code",
   "execution_count": 1,
   "metadata": {},
   "outputs": [],
   "source": [
    "import requests as rq\n",
    "from bs4 import BeautifulSoup\n",
    "import requests as rq\n",
    "import telegram \n",
    "import os\n",
    "    \n",
    "   "
   ]
  },
  {
   "cell_type": "code",
   "execution_count": 11,
   "metadata": {},
   "outputs": [],
   "source": [
    "\n",
    "TELEGRAM_TOKEN = \"1115698991:AAELldb8GA9wR_YWZqxgGXO-lrDc8CYzZX0\"\n",
    "CHAT_ID = \"1091017965\"\n",
    "bot = telegram.Bot(token=TELEGRAM_TOKEN)\n",
    "\n",
    "if not TELEGRAM_TOKEN or not CHAT_ID:\n",
    "    raise Exception('Need TELEGRAM_TOKEN, CHAT_ID')\n"
   ]
  },
  {
   "cell_type": "code",
   "execution_count": 106,
   "metadata": {},
   "outputs": [
    {
     "data": {
      "text/plain": [
       "[<td class=\"number\">76</td>,\n",
       " <td class=\"number\" header=\"status_con s_type1\">9037</td>,\n",
       " <td class=\"number\" header=\"status_con s_type4\">3507</td>,\n",
       " <td class=\"number\" header=\"status_con s_type2\">120</td>,\n",
       " <td class=\"number\" header=\"status_con s_type3\">17.43</td>]"
      ]
     },
     "execution_count": 106,
     "metadata": {},
     "output_type": "execute_result"
    }
   ],
   "source": [
    "\n",
    "BASE_URL = \"http://ncov.mohw.go.kr/bdBoardList_Real.do?brdId=1&brdGubun=13&ncvContSeq=&contSeq=&board_id=&gubun=\"\n",
    "# getData(BASE_URL);\n",
    "\n",
    "res = rq.get(BASE_URL)\n",
    "soup = BeautifulSoup(res.content, 'html.parser')\n",
    "total = soup.select('.sumline td')\n",
    "total"
   ]
  },
  {
   "cell_type": "code",
   "execution_count": 112,
   "metadata": {},
   "outputs": [],
   "source": [
    "\n",
    "BASE_URL = \"https://google.org/crisisresponse/covid19-map\"\n",
    "# getData(BASE_URL);\n",
    "\n"
   ]
  },
  {
   "cell_type": "code",
   "execution_count": 4,
   "metadata": {},
   "outputs": [],
   "source": [
    "def send(self, t):\n",
    "    self.bot.sendMessage(self.CHAT_ID, t, parse_mode=telegram.ParseMode.HTML)\n",
    "    # rq.post('https://api.telegram.org/bot1074246557:AAE6O2Okcd4RyJ2jN26RYv9uxI6sRi-UpVc/sendMessage?chat_id=%s&text=%s'%(chat_id, t))\n",
    "\n"
   ]
  },
  {
   "cell_type": "code",
   "execution_count": 187,
   "metadata": {},
   "outputs": [],
   "source": [
    "def template(columns, data):\n",
    "    body = []\n",
    "    for i in range(1, data['count']):\n",
    "        body.append([data[column][i] for column in columns])\n",
    "    return '<code>' + '\\n'.join(print_table(body, columns, 80, 6)) + '</code>'\n",
    "\n"
   ]
  },
  {
   "cell_type": "code",
   "execution_count": 183,
   "metadata": {},
   "outputs": [],
   "source": [
    "res = rq.get(BASE_URL)\n",
    "soup = BeautifulSoup(res.content, 'html.parser')\n"
   ]
  },
  {
   "cell_type": "code",
   "execution_count": 184,
   "metadata": {
    "scrolled": true
   },
   "outputs": [],
   "source": [
    "total = soup.select('.table_container thead th')\n",
    "columns = [str(column.text).replace(\" \", \"_\") for  column in total]\n"
   ]
  },
  {
   "cell_type": "code",
   "execution_count": 191,
   "metadata": {},
   "outputs": [
    {
     "name": "stdout",
     "output_type": "stream",
     "text": [
      "{'count': 1, 'Location': ['Location'], 'Confirmed_cases': ['Confirmed cases'], 'Cases_per_1M_people': ['Cases per 1M people'], 'Recovered': ['Recovered'], 'Deaths': ['Deaths']}\n"
     ]
    }
   ],
   "source": [
    "result = {'count':1}\n",
    "for column in columns:\n",
    "    result[column] = [column.replace(\"_\", \" \")]\n",
    "result['count'] = 1\n",
    "print(result)"
   ]
  },
  {
   "cell_type": "code",
   "execution_count": 185,
   "metadata": {},
   "outputs": [
    {
     "name": "stdout",
     "output_type": "stream",
     "text": [
      "{'Location': ['Location'], 'Confirmed_cases': ['Confirmed cases'], 'Cases_per_1M_people': ['Cases per 1M people'], 'Recovered': ['Recovered'], 'Deaths': ['Deaths'], 'count': 1}\n"
     ]
    }
   ],
   "source": [
    "result = {'count':1}\n",
    "for column in columns:\n",
    "    result[column] = [column.replace(\"_\", \" \")]\n",
    "result['count'] = 1\n",
    "print(result)\n",
    "\n",
    "table_rows = soup.select('.table_container tbody tr')\n",
    "\n",
    "for row in table_rows:\n",
    "    tds = row.select('td')\n",
    "    idx = 0\n",
    "    for column in columns:\n",
    "        result[column].append(tds[idx].text.strip())\n",
    "        idx += 1\n",
    "    result['count'] += 1\n",
    "\n"
   ]
  },
  {
   "cell_type": "code",
   "execution_count": 188,
   "metadata": {},
   "outputs": [],
   "source": [
    "data = template(columns, result)"
   ]
  },
  {
   "cell_type": "code",
   "execution_count": 177,
   "metadata": {},
   "outputs": [],
   "source": [
    "\n",
    "def pad (string, length=10, char=\" \"):\n",
    "    string = str(string)\n",
    "\n",
    "    if len(string) > length or len(char) > 1:\n",
    "        return string\n",
    "\n",
    "    strlen = len(string)\n",
    "    padlen = abs(length - strlen)\n",
    "    string = string + (char * padlen)\n",
    "    return string"
   ]
  },
  {
   "cell_type": "code",
   "execution_count": 180,
   "metadata": {},
   "outputs": [],
   "source": [
    "\n",
    "def print_table(lines, header=None, totalwidth=80, mincol=4, splitter=(\"|\", \"-\", \"+\")):\n",
    "    splitter, horiz, cross = splitter\n",
    "\n",
    "    if splitter == \"\":\n",
    "        splitter = \" \"\n",
    "    if horiz == \"\":\n",
    "        horiz = \" \"\n",
    "    if cross == \"\":\n",
    "        cross = \" \"\n",
    "\n",
    "    width = {}\n",
    "    total = {}\n",
    "    average = {}\n",
    "    fair_average = {}\n",
    "\n",
    "    if header:\n",
    "        col = 0\n",
    "        for each in header:\n",
    "            width[col] = len(each)\n",
    "            col += 1\n",
    "\n",
    "    num_lines = 0\n",
    "    for line in lines:\n",
    "        col = 0\n",
    "        num_lines += 1\n",
    "        for each in line:\n",
    "            try:\n",
    "                if len(each) > width[col]:\n",
    "                    width[col] = len(each)\n",
    "            except:\n",
    "                width[col] = len(each)\n",
    "\n",
    "            try:\n",
    "                total[col] += len(each)\n",
    "            except:\n",
    "                total[col] = len(each)\n",
    "\n",
    "            col += 1\n",
    "    num_columns = col\n",
    "\n",
    "    total_of_averages = 0\n",
    "    total_of_widths = 0\n",
    "    for x in range(num_columns):\n",
    "        average[x] = int( total[x]/num_lines )\n",
    "        total_of_averages += average[x]\n",
    "        total_of_widths += width[x]\n",
    "        \n",
    "\n",
    "    amount_of_padding = (num_columns * len(splitter)) + len(splitter)\n",
    "\n",
    "    if total_of_widths + amount_of_padding > totalwidth:\n",
    "        for x in width:\n",
    "            percent = float(average[x])/(total_of_averages)\n",
    "            fair_average[x] = int((totalwidth - amount_of_padding) * percent)\n",
    "\n",
    "        total_diff = 0\n",
    "        for x in fair_average:\n",
    "            if fair_average[x] < mincol:\n",
    "                total_diff += mincol - fair_average[x]\n",
    "                fair_average[x] = mincol\n",
    "\n",
    "        if total_diff > 0:\n",
    "            while total_diff > 0:\n",
    "                stole_some = False\n",
    "                for x in fair_average:\n",
    "                    if fair_average[x] > mincol:\n",
    "                        fair_average[x] -= 1\n",
    "                        total_diff -= 1\n",
    "                if not stole_some:\n",
    "                    break\n",
    "\n",
    "        width = fair_average\n",
    "\n",
    "    buffer = []\n",
    "    if header:\n",
    "        col = 0\n",
    "        linebuffer = \"\"\n",
    "        divider = \"\"\n",
    "        for each in header:\n",
    "            tmp=each\n",
    "            if len(each) > width[col]:\n",
    "                tmp = each[0:width[col]]\n",
    "            linebuffer += splitter + pad(tmp, width[col])\n",
    "            divider += cross + horiz * width[col]\n",
    "            col += 1\n",
    "        linebuffer += splitter\n",
    "        divider += cross\n",
    "        buffer.append(linebuffer)\n",
    "        buffer.append(divider)\n",
    "\n",
    "    for line in lines:\n",
    "        linebuffer = \"\"\n",
    "        col = 0\n",
    "        for each in line:\n",
    "            tmp = each\n",
    "            if len(each) > width[col]:\n",
    "                tmp = each[0:width[col]-2] + \"..\"\n",
    "\n",
    "            linebuffer += splitter + pad(tmp, width[col])\n",
    "            col += 1\n",
    "        linebuffer += splitter\n",
    "        buffer.append(linebuffer)\n",
    "\n",
    "    return buffer"
   ]
  },
  {
   "cell_type": "code",
   "execution_count": 6,
   "metadata": {},
   "outputs": [],
   "source": [
    "\n",
    "helper = '''\n",
    "\n",
    "Column Description:\n",
    "- city: 도시\n",
    "- CheckInc: 확진자증감\n",
    "- Confirm: 확진자\n",
    "- Dead: 사망자\n",
    "- Incidence: 발생률\n",
    "- Inspec: 검사자수\n",
    "'''\n",
    "\n",
    "self.send(data + helper)\n",
    "\n"
   ]
  },
  {
   "cell_type": "code",
   "execution_count": null,
   "metadata": {},
   "outputs": [],
   "source": []
  }
 ],
 "metadata": {
  "kernelspec": {
   "display_name": "conda_python3",
   "language": "python",
   "name": "conda_python3"
  },
  "language_info": {
   "codemirror_mode": {
    "name": "ipython",
    "version": 3
   },
   "file_extension": ".py",
   "mimetype": "text/x-python",
   "name": "python",
   "nbconvert_exporter": "python",
   "pygments_lexer": "ipython3",
   "version": "3.6.5"
  }
 },
 "nbformat": 4,
 "nbformat_minor": 4
}
